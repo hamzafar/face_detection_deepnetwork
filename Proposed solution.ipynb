{
 "cells": [
  {
   "cell_type": "markdown",
   "metadata": {},
   "source": [
    "# Optimized Solution:\n",
    "\n",
    "The typical computation process is sequential i.e. task are assigned in queues and it is surved according to its arrival order LIFO. The normal core CPU can compute its fastly but the limitation of this approach is that it serves other process after completing the ones it sees first and CPU has limited numbers of threads. On the other hand GPU has handrads/thousands of thread that can compute parrallely. The following workflow will give more insight:\n",
    "\n",
    "**CPU approach:**\n",
    "<img src = 'https://raw.githubusercontent.com/hamzafar/GPU_Computation/master/images/sequential%20programming.PNG', width = 600>\n",
    "\n",
    "**GPU approach:**\n",
    "<img src = 'https://raw.githubusercontent.com/hamzafar/GPU_Computation/master/images/GPU%20procesing.PNG', width = 600>\n"
   ]
  },
  {
   "cell_type": "markdown",
   "metadata": {},
   "source": [
    "# Compare performance \n",
    "\n",
    "To validate above we have compared the performance between sequential programming (CPU) and parallel programming (GPU) in terms of time.\n",
    "\n",
    "Random data is generated and then simply multiplied using simple approach (for loop) and same data is multiplied on GPU in tensorflow multipy function.\n",
    "\n",
    "The results shows that with simple arithmetic operations GPU outperformed."
   ]
  },
  {
   "cell_type": "markdown",
   "metadata": {},
   "source": [
    "### Random Data"
   ]
  },
  {
   "cell_type": "code",
   "execution_count": 1,
   "metadata": {
    "collapsed": true
   },
   "outputs": [],
   "source": [
    "import numpy as np\n",
    "import time\n",
    "\n",
    "import tensorflow as tf"
   ]
  },
  {
   "cell_type": "code",
   "execution_count": 2,
   "metadata": {
    "collapsed": true
   },
   "outputs": [],
   "source": [
    "# Number of rows to be multiplied\n",
    "N = 50000"
   ]
  },
  {
   "cell_type": "code",
   "execution_count": null,
   "metadata": {
    "collapsed": true
   },
   "outputs": [],
   "source": [
    "# Random data genrated for multiplication with different seed\n",
    "np.random.seed(10)\n",
    "df = np.random.randn(N)\n",
    "\n",
    "np.random.seed(100)\n",
    "fms = np.random.randn(N)\n",
    "\n",
    "np.random.seed(1000)\n",
    "gff = np.random.randn(N)\n",
    "\n",
    "np.random.seed(10000)\n",
    "cof = np.random.randn(N)\n",
    "\n",
    "pof = np.ndarray(N)\n",
    "risk = np.ndarray(N)"
   ]
  },
  {
   "cell_type": "markdown",
   "metadata": {
    "collapsed": true
   },
   "source": [
    "### Sequential Programming"
   ]
  },
  {
   "cell_type": "code",
   "execution_count": 8,
   "metadata": {
    "collapsed": false
   },
   "outputs": [
    {
     "name": "stdout",
     "output_type": "stream",
     "text": [
      "--- 0.08100461959838867 seconds ---\n"
     ]
    }
   ],
   "source": [
    "# determine the start time\n",
    "start_time = time.time()\n",
    "\n",
    "# multiply each of the variable\n",
    "for i in range(0, len(cof)):\n",
    "    pof[i] = df[i] * fms[i] * gff[i]\n",
    "\n",
    "for i in range(0, len(pof)):\n",
    "    risk[i] = pof[i] * cof[i]\n",
    "# find out the runtime\n",
    "print(\"--- %s seconds ---\" % (time.time() - start_time))"
   ]
  },
  {
   "cell_type": "markdown",
   "metadata": {
    "collapsed": true
   },
   "source": [
    "## Parallel Programing"
   ]
  },
  {
   "cell_type": "code",
   "execution_count": 9,
   "metadata": {
    "collapsed": false
   },
   "outputs": [],
   "source": [
    "# place data to tensors\n",
    "t_df = tf.constant(df, name= 'df')\n",
    "t_fms = tf.constant(fms, name= 'fms')\n",
    "t_gff = tf.constant(gff, name= 'gff')\n",
    "t_cof = tf.constant(cof, name= 'cof')"
   ]
  },
  {
   "cell_type": "code",
   "execution_count": 10,
   "metadata": {
    "collapsed": false
   },
   "outputs": [],
   "source": [
    "# multiply tensors\n",
    "t_pof = tf.multiply(tf.multiply(t_df, t_fms), t_gff , name='pof')\n",
    "t_risk = tf.multiply(t_pof, t_cof, name='cof')"
   ]
  },
  {
   "cell_type": "code",
   "execution_count": 11,
   "metadata": {
    "collapsed": true
   },
   "outputs": [],
   "source": [
    "# start tensorflow session\n",
    "sess = tf.Session(config=tf.ConfigProto(log_device_placement=True))"
   ]
  },
  {
   "cell_type": "code",
   "execution_count": 12,
   "metadata": {
    "collapsed": false
   },
   "outputs": [
    {
     "name": "stdout",
     "output_type": "stream",
     "text": [
      "--- 0.031001806259155273 seconds ---\n"
     ]
    }
   ],
   "source": [
    "# determine the start time\n",
    "start_time = time.time()\n",
    "\n",
    "sess.run(t_pof)\n",
    "sess.run(t_risk)\n",
    "# find out the runtime\n",
    "print(\"--- %s seconds ---\" % (time.time() - start_time))"
   ]
  },
  {
   "cell_type": "code",
   "execution_count": 13,
   "metadata": {
    "collapsed": true
   },
   "outputs": [],
   "source": [
    "sess.close()"
   ]
  },
  {
   "cell_type": "code",
   "execution_count": null,
   "metadata": {
    "collapsed": true
   },
   "outputs": [],
   "source": []
  }
 ],
 "metadata": {
  "anaconda-cloud": {},
  "kernelspec": {
   "display_name": "Python [conda root]",
   "language": "python",
   "name": "conda-root-py"
  },
  "language_info": {
   "codemirror_mode": {
    "name": "ipython",
    "version": 3
   },
   "file_extension": ".py",
   "mimetype": "text/x-python",
   "name": "python",
   "nbconvert_exporter": "python",
   "pygments_lexer": "ipython3",
   "version": "3.5.2"
  }
 },
 "nbformat": 4,
 "nbformat_minor": 1
}
